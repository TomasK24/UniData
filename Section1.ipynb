{
  "nbformat": 4,
  "nbformat_minor": 0,
  "metadata": {
    "colab": {
      "provenance": [],
      "authorship_tag": "ABX9TyNSPZfXGlgJhzPX8axnqmrr",
      "include_colab_link": true
    },
    "kernelspec": {
      "name": "python3",
      "display_name": "Python 3"
    },
    "language_info": {
      "name": "python"
    }
  },
  "cells": [
    {
      "cell_type": "markdown",
      "metadata": {
        "id": "view-in-github",
        "colab_type": "text"
      },
      "source": [
        "<a href=\"https://colab.research.google.com/github/TomasK24/UniData/blob/main/Section1.ipynb\" target=\"_parent\"><img src=\"https://colab.research.google.com/assets/colab-badge.svg\" alt=\"Open In Colab\"/></a>"
      ]
    },
    {
      "cell_type": "markdown",
      "source": [
        "**TOMAS KUKTA 21491719**"
      ],
      "metadata": {
        "id": "5abxqAr9gbst"
      }
    },
    {
      "cell_type": "code",
      "execution_count": null,
      "metadata": {
        "colab": {
          "base_uri": "https://localhost:8080/",
          "height": 384
        },
        "id": "nQ4k4V5wQWAJ",
        "outputId": "9f0b313c-8e13-4e4f-d2b0-3a272a2bf060"
      },
      "outputs": [
        {
          "output_type": "error",
          "ename": "ModuleNotFoundError",
          "evalue": "No module named 'pandasql'",
          "traceback": [
            "\u001b[0;31m---------------------------------------------------------------------------\u001b[0m",
            "\u001b[0;31mModuleNotFoundError\u001b[0m                       Traceback (most recent call last)",
            "\u001b[0;32m<ipython-input-5-88d97d602170>\u001b[0m in \u001b[0;36m<cell line: 2>\u001b[0;34m()\u001b[0m\n\u001b[1;32m      1\u001b[0m \u001b[0;32mimport\u001b[0m \u001b[0mpandas\u001b[0m \u001b[0;32mas\u001b[0m \u001b[0mpd\u001b[0m\u001b[0;34m\u001b[0m\u001b[0;34m\u001b[0m\u001b[0m\n\u001b[0;32m----> 2\u001b[0;31m \u001b[0;32mimport\u001b[0m \u001b[0mpandasql\u001b[0m \u001b[0;32mas\u001b[0m \u001b[0mpsql\u001b[0m\u001b[0;34m\u001b[0m\u001b[0;34m\u001b[0m\u001b[0m\n\u001b[0m\u001b[1;32m      3\u001b[0m \u001b[0;34m\u001b[0m\u001b[0m\n\u001b[1;32m      4\u001b[0m \u001b[0murl\u001b[0m \u001b[0;34m=\u001b[0m \u001b[0;34m'https://raw.githubusercontent.com/TomasK24/UniData/main/Energy_dataset.csv'\u001b[0m\u001b[0;34m\u001b[0m\u001b[0;34m\u001b[0m\u001b[0m\n\u001b[1;32m      5\u001b[0m \u001b[0;34m\u001b[0m\u001b[0m\n",
            "\u001b[0;31mModuleNotFoundError\u001b[0m: No module named 'pandasql'",
            "",
            "\u001b[0;31m---------------------------------------------------------------------------\u001b[0;32m\nNOTE: If your import is failing due to a missing package, you can\nmanually install dependencies using either !pip or !apt.\n\nTo view examples of installing some common dependencies, click the\n\"Open Examples\" button below.\n\u001b[0;31m---------------------------------------------------------------------------\u001b[0m\n"
          ],
          "errorDetails": {
            "actions": [
              {
                "action": "open_url",
                "actionText": "Open Examples",
                "url": "/notebooks/snippets/importing_libraries.ipynb"
              }
            ]
          }
        }
      ],
      "source": [
        "import pandas as pd\n",
        "\n",
        "url = 'https://raw.githubusercontent.com/TomasK24/UniData/main/Energy_dataset.csv'\n",
        "\n",
        "df = pd.read_csv(url)\n",
        "\n",
        "# Display the first few rows\n",
        "df.head()\n"
      ]
    },
    {
      "cell_type": "code",
      "source": [
        "# **TOMAS KUKTA 21491719**\n",
        "!pip install pandasql\n",
        "import pandasql as psql"
      ],
      "metadata": {
        "colab": {
          "base_uri": "https://localhost:8080/"
        },
        "id": "Fr2SXp-idTg_",
        "outputId": "7b29b14b-d12f-43dc-8c19-51736f5d2bbb"
      },
      "execution_count": null,
      "outputs": [
        {
          "output_type": "stream",
          "name": "stdout",
          "text": [
            "Collecting pandasql\n",
            "  Downloading pandasql-0.7.3.tar.gz (26 kB)\n",
            "  Preparing metadata (setup.py) ... \u001b[?25l\u001b[?25hdone\n",
            "Requirement already satisfied: numpy in /usr/local/lib/python3.10/dist-packages (from pandasql) (1.25.2)\n",
            "Requirement already satisfied: pandas in /usr/local/lib/python3.10/dist-packages (from pandasql) (2.0.3)\n",
            "Requirement already satisfied: sqlalchemy in /usr/local/lib/python3.10/dist-packages (from pandasql) (2.0.30)\n",
            "Requirement already satisfied: python-dateutil>=2.8.2 in /usr/local/lib/python3.10/dist-packages (from pandas->pandasql) (2.8.2)\n",
            "Requirement already satisfied: pytz>=2020.1 in /usr/local/lib/python3.10/dist-packages (from pandas->pandasql) (2023.4)\n",
            "Requirement already satisfied: tzdata>=2022.1 in /usr/local/lib/python3.10/dist-packages (from pandas->pandasql) (2024.1)\n",
            "Requirement already satisfied: typing-extensions>=4.6.0 in /usr/local/lib/python3.10/dist-packages (from sqlalchemy->pandasql) (4.11.0)\n",
            "Requirement already satisfied: greenlet!=0.4.17 in /usr/local/lib/python3.10/dist-packages (from sqlalchemy->pandasql) (3.0.3)\n",
            "Requirement already satisfied: six>=1.5 in /usr/local/lib/python3.10/dist-packages (from python-dateutil>=2.8.2->pandas->pandasql) (1.16.0)\n",
            "Building wheels for collected packages: pandasql\n",
            "  Building wheel for pandasql (setup.py) ... \u001b[?25l\u001b[?25hdone\n",
            "  Created wheel for pandasql: filename=pandasql-0.7.3-py3-none-any.whl size=26771 sha256=9873817ac980ba276310a4d194f0c0f7245af306069264a19ee764749931ce5c\n",
            "  Stored in directory: /root/.cache/pip/wheels/e9/bc/3a/8434bdcccf5779e72894a9b24fecbdcaf97940607eaf4bcdf9\n",
            "Successfully built pandasql\n",
            "Installing collected packages: pandasql\n",
            "Successfully installed pandasql-0.7.3\n"
          ]
        }
      ]
    },
    {
      "cell_type": "code",
      "source": [
        "# SELECT statement **TOMAS KUKTA 21491719**\n",
        "query = \"SELECT * FROM df WHERE Orientation = 2\"\n",
        "result_select = psql.sqldf(query)\n",
        "print(\"SELECT Operation Result:\")\n",
        "print(result_select)\n"
      ],
      "metadata": {
        "colab": {
          "base_uri": "https://localhost:8080/"
        },
        "id": "RwZKe27Edmcn",
        "outputId": "33cce255-a57e-491c-8d82-2a156cb7bd93"
      },
      "execution_count": null,
      "outputs": [
        {
          "output_type": "stream",
          "name": "stdout",
          "text": [
            "SELECT Operation Result:\n",
            "     Relative Compactness  Surface Area  Wall Area  Roof Area  Overall Height  \\\n",
            "0                    0.98         514.5      294.0     110.25             7.0   \n",
            "1                    0.90         563.5      318.5     122.50             7.0   \n",
            "2                    0.86         588.0      294.0     147.00             7.0   \n",
            "3                    0.82         612.5      318.5     147.00             7.0   \n",
            "4                    0.79         637.0      343.0     147.00             7.0   \n",
            "..                    ...           ...        ...        ...             ...   \n",
            "187                  0.71         710.5      269.5     220.50             3.5   \n",
            "188                  0.69         735.0      294.0     220.50             3.5   \n",
            "189                  0.66         759.5      318.5     220.50             3.5   \n",
            "190                  0.64         784.0      343.0     220.50             3.5   \n",
            "191                  0.62         808.5      367.5     220.50             3.5   \n",
            "\n",
            "     Orientation  Glazing Area  Glazing Area Distribution  Heating Load  \\\n",
            "0              2           0.0                          0         15.55   \n",
            "1              2           0.0                          0         20.84   \n",
            "2              2           0.0                          0         19.50   \n",
            "3              2           0.0                          0         17.05   \n",
            "4              2           0.0                          0         28.52   \n",
            "..           ...           ...                        ...           ...   \n",
            "187            2           0.4                          5         12.43   \n",
            "188            2           0.4                          5         14.12   \n",
            "189            2           0.4                          5         14.96   \n",
            "190            2           0.4                          5         17.69   \n",
            "191            2           0.4                          5         16.54   \n",
            "\n",
            "     Cooling Load  \n",
            "0           21.33  \n",
            "1           28.28  \n",
            "2           27.30  \n",
            "3           23.77  \n",
            "4           37.73  \n",
            "..            ...  \n",
            "187         15.59  \n",
            "188         16.63  \n",
            "189         17.64  \n",
            "190         20.82  \n",
            "191         16.88  \n",
            "\n",
            "[192 rows x 10 columns]\n"
          ]
        }
      ]
    },
    {
      "cell_type": "code",
      "source": [
        "# INSERT statement **TOMAS KUKTA 21491719**\n",
        "new_row = pd.DataFrame({\n",
        "    'Relative Compactness': [0.75], 'Surface Area': [550.0], 'Wall Area': [280.0],\n",
        "    'Roof Area': [200.0], 'Overall Height': [7.0], 'Orientation': [2],\n",
        "    'Glazing Area': [0.4], 'Glazing Area Distribution': [0],\n",
        "    'Heating Load': [20.0], 'Cooling Load': [15.0]\n",
        "})\n",
        "df = pd.concat([df, new_row], ignore_index=True)\n",
        "\n",
        "print(\"Data after INSERT Operation:\")\n",
        "print(df.tail())\n"
      ],
      "metadata": {
        "colab": {
          "base_uri": "https://localhost:8080/"
        },
        "id": "6vwf2v2DeIRH",
        "outputId": "5bbff4f4-a5be-49bb-82fe-204b65b3327a"
      },
      "execution_count": null,
      "outputs": [
        {
          "output_type": "stream",
          "name": "stdout",
          "text": [
            "Data after INSERT Operation:\n",
            "     Relative Compactness  Surface Area  Wall Area  Roof Area  Overall Height  \\\n",
            "764                  0.62         808.5      367.5      220.5             3.5   \n",
            "765                  0.62         808.5      367.5      220.5             3.5   \n",
            "766                  0.62         808.5      367.5      220.5             3.5   \n",
            "767                  0.62         808.5      367.5      220.5             3.5   \n",
            "768                  0.75         550.0      280.0      200.0             7.0   \n",
            "\n",
            "     Orientation  Glazing Area  Glazing Area Distribution  Heating Load  \\\n",
            "764            2           0.4                          5         16.54   \n",
            "765            3           0.4                          5         16.44   \n",
            "766            4           0.4                          5         16.48   \n",
            "767            5           0.4                          5         16.64   \n",
            "768            2           0.4                          0         20.00   \n",
            "\n",
            "     Cooling Load  \n",
            "764         16.88  \n",
            "765         17.11  \n",
            "766         16.61  \n",
            "767         16.03  \n",
            "768         15.00  \n"
          ]
        }
      ]
    },
    {
      "cell_type": "code",
      "source": [
        "# UPDATE statement **TOMAS KUKTA 21491719**\n",
        "df.loc[df['Orientation'] == 2, 'Heating Load'] = 21.0\n",
        "\n",
        "print(\"Data after UPDATE Operation:\")\n",
        "print(df[df['Orientation'] == 2].head())\n"
      ],
      "metadata": {
        "colab": {
          "base_uri": "https://localhost:8080/"
        },
        "id": "AA6PURgOtBuS",
        "outputId": "0bdea2e8-7cd0-45a3-cf59-78c534783d6c"
      },
      "execution_count": null,
      "outputs": [
        {
          "output_type": "stream",
          "name": "stdout",
          "text": [
            "Data after UPDATE Operation:\n",
            "    Relative Compactness  Surface Area  Wall Area  Roof Area  Overall Height  \\\n",
            "0                   0.98         514.5      294.0     110.25             7.0   \n",
            "4                   0.90         563.5      318.5     122.50             7.0   \n",
            "8                   0.86         588.0      294.0     147.00             7.0   \n",
            "12                  0.82         612.5      318.5     147.00             7.0   \n",
            "16                  0.79         637.0      343.0     147.00             7.0   \n",
            "\n",
            "    Orientation  Glazing Area  Glazing Area Distribution  Heating Load  \\\n",
            "0             2           0.0                          0          21.0   \n",
            "4             2           0.0                          0          21.0   \n",
            "8             2           0.0                          0          21.0   \n",
            "12            2           0.0                          0          21.0   \n",
            "16            2           0.0                          0          21.0   \n",
            "\n",
            "    Cooling Load  \n",
            "0          21.33  \n",
            "4          28.28  \n",
            "8          27.30  \n",
            "12         23.77  \n",
            "16         37.73  \n"
          ]
        }
      ]
    },
    {
      "cell_type": "code",
      "source": [
        "# DELETE statement **TOMAS KUKTA 21491719**\n",
        "df = df[~((df['Orientation'] == 2) & (df['Heating Load'] == 21.0))]\n",
        "\n",
        "print(\"Data after DELETE Operation:\")\n",
        "print(df[df['Orientation'] == 2])\n"
      ],
      "metadata": {
        "colab": {
          "base_uri": "https://localhost:8080/"
        },
        "id": "pxtnzPcltG-A",
        "outputId": "62fca5b7-a316-40de-a939-1bbdd845c25c"
      },
      "execution_count": null,
      "outputs": [
        {
          "output_type": "stream",
          "name": "stdout",
          "text": [
            "Data after DELETE Operation:\n",
            "Empty DataFrame\n",
            "Columns: [Relative Compactness, Surface Area, Wall Area, Roof Area, Overall Height, Orientation, Glazing Area, Glazing Area Distribution, Heating Load, Cooling Load]\n",
            "Index: []\n"
          ]
        }
      ]
    },
    {
      "cell_type": "code",
      "source": [
        "# Adds a new column calculating Height to Surface Area Ratio **TOMAS KUKTA 21491719**\n",
        "df['Height_to_Surface_Area_Ratio'] = df['Overall Height'] / df['Surface Area']\n",
        "print(df.head())\n"
      ],
      "metadata": {
        "colab": {
          "base_uri": "https://localhost:8080/"
        },
        "id": "9gjgxKL1t9Im",
        "outputId": "ecd557b6-2db1-4035-d51b-dbee4f17a042"
      },
      "execution_count": null,
      "outputs": [
        {
          "output_type": "stream",
          "name": "stdout",
          "text": [
            "   Relative Compactness  Surface Area  Wall Area  Roof Area  Overall Height  \\\n",
            "1                  0.98         514.5      294.0     110.25             7.0   \n",
            "2                  0.98         514.5      294.0     110.25             7.0   \n",
            "3                  0.98         514.5      294.0     110.25             7.0   \n",
            "5                  0.90         563.5      318.5     122.50             7.0   \n",
            "6                  0.90         563.5      318.5     122.50             7.0   \n",
            "\n",
            "   Orientation  Glazing Area  Glazing Area Distribution  Heating Load  \\\n",
            "1            3           0.0                          0         15.55   \n",
            "2            4           0.0                          0         15.55   \n",
            "3            5           0.0                          0         15.55   \n",
            "5            3           0.0                          0         21.46   \n",
            "6            4           0.0                          0         20.71   \n",
            "\n",
            "   Cooling Load  Height_to_Surface_Area_Ratio  \n",
            "1         21.33                      0.013605  \n",
            "2         21.33                      0.013605  \n",
            "3         21.33                      0.013605  \n",
            "5         25.38                      0.012422  \n",
            "6         25.16                      0.012422  \n"
          ]
        }
      ]
    },
    {
      "cell_type": "code",
      "source": [
        "# Calculate the average Heating Load grouped by Orientation **TOMAS KUKTA 21491719**\n",
        "query = \"SELECT Orientation, AVG(`Heating Load`) as Avg_Heating_Load FROM df GROUP BY Orientation\"\n",
        "\n",
        "# Execute the SQL query and store the result **TOMAS KUKTA 21491719**\n",
        "result_avg = psql.sqldf(query)\n",
        "\n",
        "# Print the result of the aggregate function **TOMAS KUKTA 21491719**\n",
        "print(result_avg)\n"
      ],
      "metadata": {
        "colab": {
          "base_uri": "https://localhost:8080/"
        },
        "id": "Dj0zR6OO1fzt",
        "outputId": "a0846b48-31eb-4b9c-e9c3-c396c0d87d2b"
      },
      "execution_count": null,
      "outputs": [
        {
          "output_type": "stream",
          "name": "stdout",
          "text": [
            "   Orientation  Avg_Heating_Load\n",
            "0            3         22.380677\n",
            "1            4         22.259896\n",
            "2            5         22.275365\n"
          ]
        }
      ]
    },
    {
      "cell_type": "code",
      "source": [
        "# Calculate the difference between Heating Load and Cooling Load **TOMAS KUKTA 21491719**\n",
        "df['Load_Difference'] = df['Heating Load'] - df['Cooling Load']\n",
        "\n",
        "# Display the first few rows to confirm the new column **TOMAS KUKTA 21491719**\n",
        "df.head()\n"
      ],
      "metadata": {
        "colab": {
          "base_uri": "https://localhost:8080/",
          "height": 206
        },
        "id": "3MZzrkIB1ryb",
        "outputId": "85295f70-0cf7-4ec1-98c7-cb27586de75f"
      },
      "execution_count": null,
      "outputs": [
        {
          "output_type": "execute_result",
          "data": {
            "text/plain": [
              "   Relative Compactness  Surface Area  Wall Area  Roof Area  Overall Height  \\\n",
              "1                  0.98         514.5      294.0     110.25             7.0   \n",
              "2                  0.98         514.5      294.0     110.25             7.0   \n",
              "3                  0.98         514.5      294.0     110.25             7.0   \n",
              "5                  0.90         563.5      318.5     122.50             7.0   \n",
              "6                  0.90         563.5      318.5     122.50             7.0   \n",
              "\n",
              "   Orientation  Glazing Area  Glazing Area Distribution  Heating Load  \\\n",
              "1            3           0.0                          0         15.55   \n",
              "2            4           0.0                          0         15.55   \n",
              "3            5           0.0                          0         15.55   \n",
              "5            3           0.0                          0         21.46   \n",
              "6            4           0.0                          0         20.71   \n",
              "\n",
              "   Cooling Load  Height_to_Surface_Area_Ratio  Load_Difference  \n",
              "1         21.33                      0.013605            -5.78  \n",
              "2         21.33                      0.013605            -5.78  \n",
              "3         21.33                      0.013605            -5.78  \n",
              "5         25.38                      0.012422            -3.92  \n",
              "6         25.16                      0.012422            -4.45  "
            ],
            "text/html": [
              "\n",
              "  <div id=\"df-2f348c65-5d25-4e7d-a4c4-951c77d196b8\" class=\"colab-df-container\">\n",
              "    <div>\n",
              "<style scoped>\n",
              "    .dataframe tbody tr th:only-of-type {\n",
              "        vertical-align: middle;\n",
              "    }\n",
              "\n",
              "    .dataframe tbody tr th {\n",
              "        vertical-align: top;\n",
              "    }\n",
              "\n",
              "    .dataframe thead th {\n",
              "        text-align: right;\n",
              "    }\n",
              "</style>\n",
              "<table border=\"1\" class=\"dataframe\">\n",
              "  <thead>\n",
              "    <tr style=\"text-align: right;\">\n",
              "      <th></th>\n",
              "      <th>Relative Compactness</th>\n",
              "      <th>Surface Area</th>\n",
              "      <th>Wall Area</th>\n",
              "      <th>Roof Area</th>\n",
              "      <th>Overall Height</th>\n",
              "      <th>Orientation</th>\n",
              "      <th>Glazing Area</th>\n",
              "      <th>Glazing Area Distribution</th>\n",
              "      <th>Heating Load</th>\n",
              "      <th>Cooling Load</th>\n",
              "      <th>Height_to_Surface_Area_Ratio</th>\n",
              "      <th>Load_Difference</th>\n",
              "    </tr>\n",
              "  </thead>\n",
              "  <tbody>\n",
              "    <tr>\n",
              "      <th>1</th>\n",
              "      <td>0.98</td>\n",
              "      <td>514.5</td>\n",
              "      <td>294.0</td>\n",
              "      <td>110.25</td>\n",
              "      <td>7.0</td>\n",
              "      <td>3</td>\n",
              "      <td>0.0</td>\n",
              "      <td>0</td>\n",
              "      <td>15.55</td>\n",
              "      <td>21.33</td>\n",
              "      <td>0.013605</td>\n",
              "      <td>-5.78</td>\n",
              "    </tr>\n",
              "    <tr>\n",
              "      <th>2</th>\n",
              "      <td>0.98</td>\n",
              "      <td>514.5</td>\n",
              "      <td>294.0</td>\n",
              "      <td>110.25</td>\n",
              "      <td>7.0</td>\n",
              "      <td>4</td>\n",
              "      <td>0.0</td>\n",
              "      <td>0</td>\n",
              "      <td>15.55</td>\n",
              "      <td>21.33</td>\n",
              "      <td>0.013605</td>\n",
              "      <td>-5.78</td>\n",
              "    </tr>\n",
              "    <tr>\n",
              "      <th>3</th>\n",
              "      <td>0.98</td>\n",
              "      <td>514.5</td>\n",
              "      <td>294.0</td>\n",
              "      <td>110.25</td>\n",
              "      <td>7.0</td>\n",
              "      <td>5</td>\n",
              "      <td>0.0</td>\n",
              "      <td>0</td>\n",
              "      <td>15.55</td>\n",
              "      <td>21.33</td>\n",
              "      <td>0.013605</td>\n",
              "      <td>-5.78</td>\n",
              "    </tr>\n",
              "    <tr>\n",
              "      <th>5</th>\n",
              "      <td>0.90</td>\n",
              "      <td>563.5</td>\n",
              "      <td>318.5</td>\n",
              "      <td>122.50</td>\n",
              "      <td>7.0</td>\n",
              "      <td>3</td>\n",
              "      <td>0.0</td>\n",
              "      <td>0</td>\n",
              "      <td>21.46</td>\n",
              "      <td>25.38</td>\n",
              "      <td>0.012422</td>\n",
              "      <td>-3.92</td>\n",
              "    </tr>\n",
              "    <tr>\n",
              "      <th>6</th>\n",
              "      <td>0.90</td>\n",
              "      <td>563.5</td>\n",
              "      <td>318.5</td>\n",
              "      <td>122.50</td>\n",
              "      <td>7.0</td>\n",
              "      <td>4</td>\n",
              "      <td>0.0</td>\n",
              "      <td>0</td>\n",
              "      <td>20.71</td>\n",
              "      <td>25.16</td>\n",
              "      <td>0.012422</td>\n",
              "      <td>-4.45</td>\n",
              "    </tr>\n",
              "  </tbody>\n",
              "</table>\n",
              "</div>\n",
              "    <div class=\"colab-df-buttons\">\n",
              "\n",
              "  <div class=\"colab-df-container\">\n",
              "    <button class=\"colab-df-convert\" onclick=\"convertToInteractive('df-2f348c65-5d25-4e7d-a4c4-951c77d196b8')\"\n",
              "            title=\"Convert this dataframe to an interactive table.\"\n",
              "            style=\"display:none;\">\n",
              "\n",
              "  <svg xmlns=\"http://www.w3.org/2000/svg\" height=\"24px\" viewBox=\"0 -960 960 960\">\n",
              "    <path d=\"M120-120v-720h720v720H120Zm60-500h600v-160H180v160Zm220 220h160v-160H400v160Zm0 220h160v-160H400v160ZM180-400h160v-160H180v160Zm440 0h160v-160H620v160ZM180-180h160v-160H180v160Zm440 0h160v-160H620v160Z\"/>\n",
              "  </svg>\n",
              "    </button>\n",
              "\n",
              "  <style>\n",
              "    .colab-df-container {\n",
              "      display:flex;\n",
              "      gap: 12px;\n",
              "    }\n",
              "\n",
              "    .colab-df-convert {\n",
              "      background-color: #E8F0FE;\n",
              "      border: none;\n",
              "      border-radius: 50%;\n",
              "      cursor: pointer;\n",
              "      display: none;\n",
              "      fill: #1967D2;\n",
              "      height: 32px;\n",
              "      padding: 0 0 0 0;\n",
              "      width: 32px;\n",
              "    }\n",
              "\n",
              "    .colab-df-convert:hover {\n",
              "      background-color: #E2EBFA;\n",
              "      box-shadow: 0px 1px 2px rgba(60, 64, 67, 0.3), 0px 1px 3px 1px rgba(60, 64, 67, 0.15);\n",
              "      fill: #174EA6;\n",
              "    }\n",
              "\n",
              "    .colab-df-buttons div {\n",
              "      margin-bottom: 4px;\n",
              "    }\n",
              "\n",
              "    [theme=dark] .colab-df-convert {\n",
              "      background-color: #3B4455;\n",
              "      fill: #D2E3FC;\n",
              "    }\n",
              "\n",
              "    [theme=dark] .colab-df-convert:hover {\n",
              "      background-color: #434B5C;\n",
              "      box-shadow: 0px 1px 3px 1px rgba(0, 0, 0, 0.15);\n",
              "      filter: drop-shadow(0px 1px 2px rgba(0, 0, 0, 0.3));\n",
              "      fill: #FFFFFF;\n",
              "    }\n",
              "  </style>\n",
              "\n",
              "    <script>\n",
              "      const buttonEl =\n",
              "        document.querySelector('#df-2f348c65-5d25-4e7d-a4c4-951c77d196b8 button.colab-df-convert');\n",
              "      buttonEl.style.display =\n",
              "        google.colab.kernel.accessAllowed ? 'block' : 'none';\n",
              "\n",
              "      async function convertToInteractive(key) {\n",
              "        const element = document.querySelector('#df-2f348c65-5d25-4e7d-a4c4-951c77d196b8');\n",
              "        const dataTable =\n",
              "          await google.colab.kernel.invokeFunction('convertToInteractive',\n",
              "                                                    [key], {});\n",
              "        if (!dataTable) return;\n",
              "\n",
              "        const docLinkHtml = 'Like what you see? Visit the ' +\n",
              "          '<a target=\"_blank\" href=https://colab.research.google.com/notebooks/data_table.ipynb>data table notebook</a>'\n",
              "          + ' to learn more about interactive tables.';\n",
              "        element.innerHTML = '';\n",
              "        dataTable['output_type'] = 'display_data';\n",
              "        await google.colab.output.renderOutput(dataTable, element);\n",
              "        const docLink = document.createElement('div');\n",
              "        docLink.innerHTML = docLinkHtml;\n",
              "        element.appendChild(docLink);\n",
              "      }\n",
              "    </script>\n",
              "  </div>\n",
              "\n",
              "\n",
              "<div id=\"df-76be268e-be3f-4940-8465-9a49d6432ab1\">\n",
              "  <button class=\"colab-df-quickchart\" onclick=\"quickchart('df-76be268e-be3f-4940-8465-9a49d6432ab1')\"\n",
              "            title=\"Suggest charts\"\n",
              "            style=\"display:none;\">\n",
              "\n",
              "<svg xmlns=\"http://www.w3.org/2000/svg\" height=\"24px\"viewBox=\"0 0 24 24\"\n",
              "     width=\"24px\">\n",
              "    <g>\n",
              "        <path d=\"M19 3H5c-1.1 0-2 .9-2 2v14c0 1.1.9 2 2 2h14c1.1 0 2-.9 2-2V5c0-1.1-.9-2-2-2zM9 17H7v-7h2v7zm4 0h-2V7h2v10zm4 0h-2v-4h2v4z\"/>\n",
              "    </g>\n",
              "</svg>\n",
              "  </button>\n",
              "\n",
              "<style>\n",
              "  .colab-df-quickchart {\n",
              "      --bg-color: #E8F0FE;\n",
              "      --fill-color: #1967D2;\n",
              "      --hover-bg-color: #E2EBFA;\n",
              "      --hover-fill-color: #174EA6;\n",
              "      --disabled-fill-color: #AAA;\n",
              "      --disabled-bg-color: #DDD;\n",
              "  }\n",
              "\n",
              "  [theme=dark] .colab-df-quickchart {\n",
              "      --bg-color: #3B4455;\n",
              "      --fill-color: #D2E3FC;\n",
              "      --hover-bg-color: #434B5C;\n",
              "      --hover-fill-color: #FFFFFF;\n",
              "      --disabled-bg-color: #3B4455;\n",
              "      --disabled-fill-color: #666;\n",
              "  }\n",
              "\n",
              "  .colab-df-quickchart {\n",
              "    background-color: var(--bg-color);\n",
              "    border: none;\n",
              "    border-radius: 50%;\n",
              "    cursor: pointer;\n",
              "    display: none;\n",
              "    fill: var(--fill-color);\n",
              "    height: 32px;\n",
              "    padding: 0;\n",
              "    width: 32px;\n",
              "  }\n",
              "\n",
              "  .colab-df-quickchart:hover {\n",
              "    background-color: var(--hover-bg-color);\n",
              "    box-shadow: 0 1px 2px rgba(60, 64, 67, 0.3), 0 1px 3px 1px rgba(60, 64, 67, 0.15);\n",
              "    fill: var(--button-hover-fill-color);\n",
              "  }\n",
              "\n",
              "  .colab-df-quickchart-complete:disabled,\n",
              "  .colab-df-quickchart-complete:disabled:hover {\n",
              "    background-color: var(--disabled-bg-color);\n",
              "    fill: var(--disabled-fill-color);\n",
              "    box-shadow: none;\n",
              "  }\n",
              "\n",
              "  .colab-df-spinner {\n",
              "    border: 2px solid var(--fill-color);\n",
              "    border-color: transparent;\n",
              "    border-bottom-color: var(--fill-color);\n",
              "    animation:\n",
              "      spin 1s steps(1) infinite;\n",
              "  }\n",
              "\n",
              "  @keyframes spin {\n",
              "    0% {\n",
              "      border-color: transparent;\n",
              "      border-bottom-color: var(--fill-color);\n",
              "      border-left-color: var(--fill-color);\n",
              "    }\n",
              "    20% {\n",
              "      border-color: transparent;\n",
              "      border-left-color: var(--fill-color);\n",
              "      border-top-color: var(--fill-color);\n",
              "    }\n",
              "    30% {\n",
              "      border-color: transparent;\n",
              "      border-left-color: var(--fill-color);\n",
              "      border-top-color: var(--fill-color);\n",
              "      border-right-color: var(--fill-color);\n",
              "    }\n",
              "    40% {\n",
              "      border-color: transparent;\n",
              "      border-right-color: var(--fill-color);\n",
              "      border-top-color: var(--fill-color);\n",
              "    }\n",
              "    60% {\n",
              "      border-color: transparent;\n",
              "      border-right-color: var(--fill-color);\n",
              "    }\n",
              "    80% {\n",
              "      border-color: transparent;\n",
              "      border-right-color: var(--fill-color);\n",
              "      border-bottom-color: var(--fill-color);\n",
              "    }\n",
              "    90% {\n",
              "      border-color: transparent;\n",
              "      border-bottom-color: var(--fill-color);\n",
              "    }\n",
              "  }\n",
              "</style>\n",
              "\n",
              "  <script>\n",
              "    async function quickchart(key) {\n",
              "      const quickchartButtonEl =\n",
              "        document.querySelector('#' + key + ' button');\n",
              "      quickchartButtonEl.disabled = true;  // To prevent multiple clicks.\n",
              "      quickchartButtonEl.classList.add('colab-df-spinner');\n",
              "      try {\n",
              "        const charts = await google.colab.kernel.invokeFunction(\n",
              "            'suggestCharts', [key], {});\n",
              "      } catch (error) {\n",
              "        console.error('Error during call to suggestCharts:', error);\n",
              "      }\n",
              "      quickchartButtonEl.classList.remove('colab-df-spinner');\n",
              "      quickchartButtonEl.classList.add('colab-df-quickchart-complete');\n",
              "    }\n",
              "    (() => {\n",
              "      let quickchartButtonEl =\n",
              "        document.querySelector('#df-76be268e-be3f-4940-8465-9a49d6432ab1 button');\n",
              "      quickchartButtonEl.style.display =\n",
              "        google.colab.kernel.accessAllowed ? 'block' : 'none';\n",
              "    })();\n",
              "  </script>\n",
              "</div>\n",
              "    </div>\n",
              "  </div>\n"
            ],
            "application/vnd.google.colaboratory.intrinsic+json": {
              "type": "dataframe",
              "variable_name": "df",
              "summary": "{\n  \"name\": \"df\",\n  \"rows\": 576,\n  \"fields\": [\n    {\n      \"column\": \"Relative Compactness\",\n      \"properties\": {\n        \"dtype\": \"number\",\n        \"std\": 0.1058004684792784,\n        \"min\": 0.62,\n        \"max\": 0.98,\n        \"num_unique_values\": 12,\n        \"samples\": [\n          0.64,\n          0.66,\n          0.98\n        ],\n        \"semantic_type\": \"\",\n        \"description\": \"\"\n      }\n    },\n    {\n      \"column\": \"Surface Area\",\n      \"properties\": {\n        \"dtype\": \"number\",\n        \"std\": 88.10526313055507,\n        \"min\": 514.5,\n        \"max\": 808.5,\n        \"num_unique_values\": 12,\n        \"samples\": [\n          784.0,\n          759.5,\n          514.5\n        ],\n        \"semantic_type\": \"\",\n        \"description\": \"\"\n      }\n    },\n    {\n      \"column\": \"Wall Area\",\n      \"properties\": {\n        \"dtype\": \"number\",\n        \"std\": 43.63596442505136,\n        \"min\": 245.0,\n        \"max\": 416.5,\n        \"num_unique_values\": 7,\n        \"samples\": [\n          294.0,\n          318.5,\n          269.5\n        ],\n        \"semantic_type\": \"\",\n        \"description\": \"\"\n      }\n    },\n    {\n      \"column\": \"Roof Area\",\n      \"properties\": {\n        \"dtype\": \"number\",\n        \"std\": 45.17576784073515,\n        \"min\": 110.25,\n        \"max\": 220.5,\n        \"num_unique_values\": 4,\n        \"samples\": [\n          122.5,\n          220.5,\n          110.25\n        ],\n        \"semantic_type\": \"\",\n        \"description\": \"\"\n      }\n    },\n    {\n      \"column\": \"Overall Height\",\n      \"properties\": {\n        \"dtype\": \"number\",\n        \"std\": 1.751521078079428,\n        \"min\": 3.5,\n        \"max\": 7.0,\n        \"num_unique_values\": 2,\n        \"samples\": [\n          3.5,\n          7.0\n        ],\n        \"semantic_type\": \"\",\n        \"description\": \"\"\n      }\n    },\n    {\n      \"column\": \"Orientation\",\n      \"properties\": {\n        \"dtype\": \"number\",\n        \"std\": 0,\n        \"min\": 3,\n        \"max\": 5,\n        \"num_unique_values\": 3,\n        \"samples\": [\n          3,\n          4\n        ],\n        \"semantic_type\": \"\",\n        \"description\": \"\"\n      }\n    },\n    {\n      \"column\": \"Glazing Area\",\n      \"properties\": {\n        \"dtype\": \"number\",\n        \"std\": 0.13324952075939597,\n        \"min\": 0.0,\n        \"max\": 0.4,\n        \"num_unique_values\": 4,\n        \"samples\": [\n          0.1,\n          0.4\n        ],\n        \"semantic_type\": \"\",\n        \"description\": \"\"\n      }\n    },\n    {\n      \"column\": \"Glazing Area Distribution\",\n      \"properties\": {\n        \"dtype\": \"number\",\n        \"std\": 1,\n        \"min\": 0,\n        \"max\": 5,\n        \"num_unique_values\": 6,\n        \"samples\": [\n          0,\n          1\n        ],\n        \"semantic_type\": \"\",\n        \"description\": \"\"\n      }\n    },\n    {\n      \"column\": \"Heating Load\",\n      \"properties\": {\n        \"dtype\": \"number\",\n        \"std\": 10.092718696405969,\n        \"min\": 6.01,\n        \"max\": 43.1,\n        \"num_unique_values\": 460,\n        \"samples\": [\n          15.36,\n          24.63\n        ],\n        \"semantic_type\": \"\",\n        \"description\": \"\"\n      }\n    },\n    {\n      \"column\": \"Cooling Load\",\n      \"properties\": {\n        \"dtype\": \"number\",\n        \"std\": 9.489461393734437,\n        \"min\": 10.94,\n        \"max\": 48.03,\n        \"num_unique_values\": 503,\n        \"samples\": [\n          37.29,\n          29.36\n        ],\n        \"semantic_type\": \"\",\n        \"description\": \"\"\n      }\n    },\n    {\n      \"column\": \"Height_to_Surface_Area_Ratio\",\n      \"properties\": {\n        \"dtype\": \"number\",\n        \"std\": 0.0036384233078586648,\n        \"min\": 0.004329004329004329,\n        \"max\": 0.013605442176870748,\n        \"num_unique_values\": 12,\n        \"samples\": [\n          0.004464285714285714,\n          0.004608294930875576\n        ],\n        \"semantic_type\": \"\",\n        \"description\": \"\"\n      }\n    },\n    {\n      \"column\": \"Load_Difference\",\n      \"properties\": {\n        \"dtype\": \"number\",\n        \"std\": 2.2512351053806148,\n        \"min\": -10.689999999999998,\n        \"max\": 4.259999999999998,\n        \"num_unique_values\": 474,\n        \"samples\": [\n          -2.5,\n          -2.26\n        ],\n        \"semantic_type\": \"\",\n        \"description\": \"\"\n      }\n    }\n  ]\n}"
            }
          },
          "metadata": {},
          "execution_count": 13
        }
      ]
    }
  ]
}